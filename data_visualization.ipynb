{
 "cells": [
  {
   "cell_type": "markdown",
   "metadata": {},
   "source": [
    "# Imports"
   ]
  },
  {
   "cell_type": "code",
   "execution_count": 1,
   "metadata": {},
   "outputs": [],
   "source": [
    "import seaborn as sns\n",
    "import matplotlib.pyplot as plt\n",
    "import torch\n",
    "import os\n",
    "import numpy as np\n",
    "import pandas as pd\n"
   ]
  },
  {
   "cell_type": "markdown",
   "metadata": {},
   "source": [
    "# Define DataFrame Creation Functions"
   ]
  },
  {
   "cell_type": "code",
   "execution_count": 2,
   "metadata": {},
   "outputs": [],
   "source": [
    "def create_dataframes(data_path):\n",
    "    '''\n",
    "    DESC\n",
    "    ---\n",
    "    Creates the dataframes to be used for visualizing data\n",
    "    ---\n",
    "    INPUTS \n",
    "    ---\n",
    "    datapath: a data path which contains 2 folders, one labeled \"tsv_good\" with\n",
    "    all good tsv files and one labeled tsv_bad with all bad tsv files\n",
    "    ---\n",
    "\n",
    "    RETURN\n",
    "    ---\n",
    "    good_sequences_df: a dataframe of all sequences of data\n",
    "    bad_sequences_df: a dataframe of all sequences of bad\n",
    "\n",
    "    good_lengths_df: a dataframe of lengths of each sequence for good data\n",
    "    bad_lengths: a dataframe of lengths of each sequence for bad data\n",
    "    ---\n",
    "    '''\n",
    "    \n",
    "    # get the file paths for all the good and bad tsv files\n",
    "    good_dir = data_path + \"/tsv_good/\"\n",
    "    bad_dir = data_path + \"/tsv_bad/\"\n",
    "\n",
    "    good_files = os.listdir(good_dir)\n",
    "    bad_files = os.listdir(bad_dir)\n",
    "    \n",
    "    good_sequences = []\n",
    "    bad_sequences = []\n",
    "\n",
    "    good_lengths = []\n",
    "    bad_lengths = []\n",
    "\n",
    "    for good_file in good_files:\n",
    "        file_path = good_dir + good_file\n",
    "        # skip files which are invalid\n",
    "        if not file_path.endswith('.tsv'):\n",
    "            continue\n",
    "        sequence = pd.read_csv(file_path, delimiter='\\t', index_col='Unnamed: 0')\n",
    "        good_sequences.append(sequence)\n",
    "\n",
    "        # create a list of lengths and sequence labels\n",
    "        good_lengths.append({'length' : len(sequence)})\n",
    "\n",
    "    for bad_file in bad_files:\n",
    "        file_path = bad_dir + bad_file\n",
    "        # skip files which are invalid\n",
    "        if not file_path.endswith('.tsv'):\n",
    "                continue\n",
    "        sequence = pd.read_csv(file_path, delimiter='\\t', index_col='Unnamed: 0')\n",
    "        bad_sequences.append(sequence)\n",
    "\n",
    "        # create a list of lengths and sequence labels\n",
    "        bad_lengths.append({'length' : len(sequence)})\n",
    "\n",
    "\n",
    "    good_sequences_df = pd.concat(good_sequences, axis=0, ignore_index=True)\n",
    "    bad_sequences_df = pd.concat(bad_sequences, axis=0, ignore_index=True)\n",
    "    good_lengths_df = pd.DataFrame(good_lengths)\n",
    "    bad_lengths_df = pd.DataFrame(bad_lengths)\n",
    "\n",
    "    return good_sequences_df, bad_sequences_df, good_lengths_df, bad_lengths_df"
   ]
  },
  {
   "cell_type": "markdown",
   "metadata": {},
   "source": [
    "# Create DataFrames"
   ]
  },
  {
   "cell_type": "code",
   "execution_count": 3,
   "metadata": {},
   "outputs": [],
   "source": [
    "good_sequences, bad_sequences, good_lengths, bad_lengths = \\\n",
    "    create_dataframes('/Users/CiaraFigliuolo/Documents/CMU/11785_DL/Project/Sorted')"
   ]
  },
  {
   "cell_type": "markdown",
   "metadata": {},
   "source": [
    "# Plot Histograms and Print Statistics for Lengths"
   ]
  },
  {
   "cell_type": "code",
   "execution_count": 4,
   "metadata": {},
   "outputs": [
    {
     "name": "stdout",
     "output_type": "stream",
     "text": [
      "Min sequence length in good data is 1002\n",
      "Max sequence length in good data is 120023\n",
      "Mean sequence length in good data is 3382.8960993528076\n",
      "Median sequence length in good data is 2232.0\n"
     ]
    },
    {
     "data": {
      "image/png": "[encoded data removed]",
      "text/plain": [
       "<Figure size 432x288 with 1 Axes>"
      ]
     },
     "metadata": {},
     "output_type": "display_data"
    }
   ],
   "source": [
    "sns.set_theme(style=\"ticks\")\n",
    "sns.histplot(\n",
    "    good_lengths,\n",
    "    x=\"length\",\n",
    "    multiple=\"dodge\",\n",
    "    stat=\"count\",\n",
    "    edgecolor=\".3\",\n",
    "    linewidth=.25,\n",
    "    log_scale=True,\n",
    "    shrink=True,\n",
    ").set(title=\"Good Data Sequence Lengths\")\n",
    "sns.despine()\n",
    "\n",
    "good_lengths_min = good_lengths['length'].min()\n",
    "good_lengths_max = good_lengths['length'].max()\n",
    "good_lengths_mean = good_lengths['length'].mean()\n",
    "good_lengths_median = good_lengths['length'].median()\n",
    "print(f\"Min sequence length in good data is {good_lengths_min}\")\n",
    "print(f\"Max sequence length in good data is {good_lengths_max}\")\n",
    "print(f\"Mean sequence length in good data is {good_lengths_mean}\")\n",
    "print(f\"Median sequence length in good data is {good_lengths_median}\")"
   ]
  },
  {
   "cell_type": "code",
   "execution_count": 5,
   "metadata": {},
   "outputs": [
    {
     "name": "stdout",
     "output_type": "stream",
     "text": [
      "Min sequence length in bad data is 1002\n",
      "Max sequence length in bad data is 44906\n",
      "Mean sequence length in bad data is 2948.5934182590236\n",
      "Median sequence length in bad data is 1785.0\n"
     ]
    },
    {
     "data": {
      "image/png": "[encoded data removed]",
      "text/plain": [
       "<Figure size 432x288 with 1 Axes>"
      ]
     },
     "metadata": {},
     "output_type": "display_data"
    }
   ],
   "source": [
    "sns.set_theme(style=\"ticks\")\n",
    "sns.histplot(\n",
    "    bad_lengths,\n",
    "    x=\"length\",\n",
    "    multiple=\"dodge\",\n",
    "    stat=\"count\",\n",
    "    edgecolor=\".3\",\n",
    "    linewidth=.25,\n",
    "    log_scale=True,\n",
    ").set(title=\"Bad Data Sequence Lengths\")\n",
    "sns.despine()\n",
    "\n",
    "bad_lengths_min = bad_lengths['length'].min()\n",
    "bad_lengths_max = bad_lengths['length'].max()\n",
    "bad_lengths_mean = bad_lengths['length'].mean()\n",
    "bad_lengths_median = bad_lengths['length'].median()\n",
    "print(f\"Min sequence length in bad data is {bad_lengths_min}\")\n",
    "print(f\"Max sequence length in bad data is {bad_lengths_max}\")\n",
    "print(f\"Mean sequence length in bad data is {bad_lengths_mean}\")\n",
    "print(f\"Median sequence length in bad data is {bad_lengths_median}\")"
   ]
  },
  {
   "cell_type": "markdown",
   "metadata": {},
   "source": [
    "# Get Statistics for Features"
   ]
  },
  {
   "cell_type": "code",
   "execution_count": 6,
   "metadata": {},
   "outputs": [],
   "source": [
    "def print_stats_for_feature(dataframe, feature_name, label):\n",
    "    '''\n",
    "    DESC\n",
    "    ---\n",
    "    Prints the min, max, mean, and median for a particular feature in a dataframe\n",
    "    ---\n",
    "    INPUTS \n",
    "    ---\n",
    "    dataframe: a dataframe with either the good or bad sequence data\n",
    "    feature_name: the name of the feature for which to print the statistics\n",
    "    label: the name of the data contained in the dataframe\n",
    "    ---\n",
    "    '''\n",
    "    min = dataframe[feature_name].min()\n",
    "    max = dataframe[feature_name].max()\n",
    "    mean = dataframe[feature_name].mean()\n",
    "    median = dataframe[feature_name].median()\n",
    "    print(f\"Data for '{feature_name.strip()}' in {label}\")\n",
    "    print(f\"Min '{feature_name.strip()}' in {label} data is {min}\")\n",
    "    print(f\"Max '{feature_name.strip()}' in {label} data is {max}\")\n",
    "    print(f\"Mean '{feature_name.strip()}' in {label} data is {mean}\")\n",
    "    print(f\"Median '{feature_name.strip()}' in {label} data is {median}\\n\")"
   ]
  },
  {
   "cell_type": "code",
   "execution_count": 7,
   "metadata": {},
   "outputs": [
    {
     "name": "stdout",
     "output_type": "stream",
     "text": [
      "Data for 'time (sec)'\n",
      "\n",
      "Data for 'time (sec)' in good\n",
      "Min 'time (sec)' in good data is 1.0\n",
      "Max 'time (sec)' in good data is 24096.94\n",
      "Mean 'time (sec)' in good data is 833.830513444119\n",
      "Median 'time (sec)' in good data is 385.193\n",
      "\n",
      "Data for 'time (sec)' in bad\n",
      "Min 'time (sec)' in bad data is 1.0\n",
      "Max 'time (sec)' in bad data is 9016.49\n",
      "Mean 'time (sec)' in bad data is 788.9317831007262\n",
      "Median 'time (sec)' in bad data is 334.682\n",
      "\n",
      "\n",
      "Data for 'xEast (m)'\n",
      "\n",
      "Data for 'xEast (m)' in good\n",
      "Min 'xEast (m)' in good data is 1.0\n",
      "Max 'xEast (m)' in good data is 417214.0\n",
      "Mean 'xEast (m)' in good data is 15874.171203803424\n",
      "Median 'xEast (m)' in good data is 6814.964\n",
      "\n",
      "Data for 'xEast (m)' in bad\n",
      "Min 'xEast (m)' in bad data is 1.0\n",
      "Max 'xEast (m)' in bad data is 441978.8\n",
      "Mean 'xEast (m)' in bad data is 2037.158693460234\n",
      "Median 'xEast (m)' in bad data is 1.58161\n",
      "\n",
      "\n",
      "Data for 'yNorth (m)'\n",
      "\n",
      "Data for 'yNorth (m)' in good\n",
      "Min 'yNorth (m)' in good data is 1.0\n",
      "Max 'yNorth (m)' in good data is 452440.1\n",
      "Mean 'yNorth (m)' in good data is 17991.180718814612\n",
      "Median 'yNorth (m)' in good data is 8525.583\n",
      "\n",
      "Data for 'yNorth (m)' in bad\n",
      "Min 'yNorth (m)' in bad data is 1.0\n",
      "Max 'yNorth (m)' in bad data is 313424.4\n",
      "Mean 'yNorth (m)' in bad data is 2441.5330312429473\n",
      "Median 'yNorth (m)' in bad data is 1.886767\n",
      "\n",
      "\n",
      "Data for 'zUp (m)'\n",
      "\n",
      "Data for 'zUp (m)' in good\n",
      "Min 'zUp (m)' in good data is 1.0\n",
      "Max 'zUp (m)' in good data is 26205.51\n",
      "Mean 'zUp (m)' in good data is 488.4843888954424\n",
      "Median 'zUp (m)' in good data is 147.703\n",
      "\n",
      "Data for 'zUp (m)' in bad\n",
      "Min 'zUp (m)' in bad data is 1.0\n",
      "Max 'zUp (m)' in bad data is 24586.15\n",
      "Mean 'zUp (m)' in bad data is 430.7508002338006\n",
      "Median 'zUp (m)' in bad data is 1.000001\n",
      "\n",
      "\n",
      "Data for 'vx (m/s)'\n",
      "\n",
      "Data for 'vx (m/s)' in good\n",
      "Min 'vx (m/s)' in good data is -533.6674\n",
      "Max 'vx (m/s)' in good data is 535.5882\n",
      "Mean 'vx (m/s)' in good data is 4.389051398750524\n",
      "Median 'vx (m/s)' in good data is 0.003325032\n",
      "\n",
      "Data for 'vx (m/s)' in bad\n",
      "Min 'vx (m/s)' in bad data is -289.5816\n",
      "Max 'vx (m/s)' in bad data is 290.0601\n",
      "Mean 'vx (m/s)' in bad data is 0.18449949114359665\n",
      "Median 'vx (m/s)' in bad data is 0.0016660404999999999\n",
      "\n",
      "\n",
      "Data for 'vy (m/s)'\n",
      "\n",
      "Data for 'vy (m/s)' in good\n",
      "Min 'vy (m/s)' in good data is -562.1689\n",
      "Max 'vy (m/s)' in good data is 927.6489\n",
      "Mean 'vy (m/s)' in good data is -3.955172615051651\n",
      "Median 'vy (m/s)' in good data is -0.003255287\n",
      "\n",
      "Data for 'vy (m/s)' in bad\n",
      "Min 'vy (m/s)' in bad data is -327.2148\n",
      "Max 'vy (m/s)' in bad data is 280.1123\n",
      "Mean 'vy (m/s)' in bad data is -1.0508825841907248\n",
      "Median 'vy (m/s)' in bad data is -0.002851671\n",
      "\n",
      "\n",
      "Data for 'vz (m/s)'\n",
      "\n",
      "Data for 'vz (m/s)' in good\n",
      "Min 'vz (m/s)' in good data is -148.9351\n",
      "Max 'vz (m/s)' in good data is 113.2602\n",
      "Mean 'vz (m/s)' in good data is 0.06353795755917145\n",
      "Median 'vz (m/s)' in good data is 2.334465e-07\n",
      "\n",
      "Data for 'vz (m/s)' in bad\n",
      "Min 'vz (m/s)' in bad data is -64.56932\n",
      "Max 'vz (m/s)' in bad data is 32.72192\n",
      "Mean 'vz (m/s)' in bad data is -0.022869228157697846\n",
      "Median 'vz (m/s)' in bad data is 1.9006235e-06\n",
      "\n",
      "\n",
      "Data for 'head (deg)'\n",
      "\n",
      "Data for 'head (deg)' in good\n",
      "Min 'head (deg)' in good data is 1.29924e-08\n",
      "Max 'head (deg)' in good data is 360.0\n",
      "Mean 'head (deg)' in good data is 187.45823488622148\n",
      "Median 'head (deg)' in good data is 164.753\n",
      "\n",
      "Data for 'head (deg)' in bad\n",
      "Min 'head (deg)' in bad data is 2.336226e-07\n",
      "Max 'head (deg)' in bad data is 360.0\n",
      "Mean 'head (deg)' in bad data is 185.28597341267948\n",
      "Median 'head (deg)' in bad data is 150.099\n",
      "\n",
      "\n",
      "Data for 'pitch (deg)'\n",
      "\n",
      "Data for 'pitch (deg)' in good\n",
      "Min 'pitch (deg)' in good data is -89.8999\n",
      "Max 'pitch (deg)' in good data is 90.0\n",
      "Mean 'pitch (deg)' in good data is 1.4724813093912295\n",
      "Median 'pitch (deg)' in good data is 1.096268\n",
      "\n",
      "Data for 'pitch (deg)' in bad\n",
      "Min 'pitch (deg)' in bad data is -88.77986\n",
      "Max 'pitch (deg)' in bad data is 89.75288\n",
      "Mean 'pitch (deg)' in bad data is 1.3421142359465619\n",
      "Median 'pitch (deg)' in bad data is 1.682591\n",
      "\n",
      "\n",
      "Data for 'roll (deg)'\n",
      "\n",
      "Data for 'roll (deg)' in good\n",
      "Min 'roll (deg)' in good data is -180.0\n",
      "Max 'roll (deg)' in good data is 180.0\n",
      "Mean 'roll (deg)' in good data is 0.09200436992580428\n",
      "Median 'roll (deg)' in good data is 5.422287e-06\n",
      "\n",
      "Data for 'roll (deg)' in bad\n",
      "Min 'roll (deg)' in bad data is -179.9856\n",
      "Max 'roll (deg)' in bad data is 179.9762\n",
      "Mean 'roll (deg)' in bad data is 0.32622374559360534\n",
      "Median 'roll (deg)' in bad data is 1.763833e-06\n",
      "\n",
      "\n"
     ]
    }
   ],
   "source": [
    "'''\n",
    "Print all of the statistics for the features in the data, \n",
    "broken down by good and bad data\n",
    "'''\n",
    "column_names = good_sequences.columns.values.tolist()\n",
    "for feature_name in column_names:\n",
    "    print(f\"Data for '{feature_name.strip()}'\\n\")\n",
    "    print_stats_for_feature(good_sequences, feature_name, 'good')\n",
    "    print_stats_for_feature(bad_sequences, feature_name, 'bad')\n",
    "    print()"
   ]
  }
 ],
 "metadata": {
  "interpreter": {
   "hash": "b2958767d463e3380cc093ac58fbfa94643835a98776476dd44f62e2c30300d9"
  },
  "kernelspec": {
   "display_name": "Python 3.9.10 64-bit ('base': conda)",
   "language": "python",
   "name": "python3"
  },
  "language_info": {
   "codemirror_mode": {
    "name": "ipython",
    "version": 3
   },
   "file_extension": ".py",
   "mimetype": "text/x-python",
   "name": "python",
   "nbconvert_exporter": "python",
   "pygments_lexer": "ipython3",
   "version": "3.9.10"
  },
  "orig_nbformat": 4
 },
 "nbformat": 4,
 "nbformat_minor": 2
}
